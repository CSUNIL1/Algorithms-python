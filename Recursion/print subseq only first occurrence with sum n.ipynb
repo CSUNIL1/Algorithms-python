{
 "cells": [
  {
   "cell_type": "markdown",
   "id": "39230b3c",
   "metadata": {},
   "source": [
    "Print only first occurrence of a sub sequence whose sum is n"
   ]
  },
  {
   "cell_type": "code",
   "execution_count": 7,
   "id": "419ce714",
   "metadata": {},
   "outputs": [],
   "source": [
    "def printSub(indx, subseq, arr, l, total, s):\n",
    "    if indx==l:\n",
    "        if total==s:\n",
    "            print(subseq)\n",
    "            return True\n",
    "        return False\n",
    "    subseq.append(arr[indx])\n",
    "    s+=arr[indx]\n",
    "    if(printSub(indx+1, subseq, arr, l, total, s) == True):\n",
    "        return True\n",
    "    subseq.pop()\n",
    "    s-=arr[indx]\n",
    "    if(printSub(indx+1, subseq, arr, l, total, s) == True):\n",
    "        return True\n",
    "    return False"
   ]
  },
  {
   "cell_type": "code",
   "execution_count": 8,
   "id": "8910c87d",
   "metadata": {},
   "outputs": [
    {
     "name": "stdout",
     "output_type": "stream",
     "text": [
      "1 2 1\n",
      "2\n",
      "[1, 1]\n"
     ]
    },
    {
     "data": {
      "text/plain": [
       "True"
      ]
     },
     "execution_count": 8,
     "metadata": {},
     "output_type": "execute_result"
    }
   ],
   "source": [
    "str_arr = input().split()\n",
    "total = int(input())\n",
    "arr = [int(x) for x in str_arr]\n",
    "l = len(arr)\n",
    "subseq = []\n",
    "\n",
    "printSub(0, subseq, arr, l, total, 0)"
   ]
  },
  {
   "cell_type": "code",
   "execution_count": null,
   "id": "3a9d8523",
   "metadata": {},
   "outputs": [],
   "source": []
  }
 ],
 "metadata": {
  "kernelspec": {
   "display_name": "Python 3",
   "language": "python",
   "name": "python3"
  },
  "language_info": {
   "codemirror_mode": {
    "name": "ipython",
    "version": 3
   },
   "file_extension": ".py",
   "mimetype": "text/x-python",
   "name": "python",
   "nbconvert_exporter": "python",
   "pygments_lexer": "ipython3",
   "version": "3.6.9"
  }
 },
 "nbformat": 4,
 "nbformat_minor": 5
}
