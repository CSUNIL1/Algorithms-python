{
 "cells": [
  {
   "cell_type": "markdown",
   "id": "ec4478d4",
   "metadata": {},
   "source": [
    "Need to print a sub sequence whose sum is n"
   ]
  },
  {
   "cell_type": "code",
   "execution_count": 1,
   "id": "b554ea51",
   "metadata": {},
   "outputs": [],
   "source": [
    "def printSub(indx, subseq, arr, l, total, s):\n",
    "    if indx>=l:\n",
    "        if s==total:\n",
    "            print(subseq)\n",
    "        return\n",
    "    subseq.append(arr[indx])\n",
    "    s+=arr[indx]\n",
    "    printSub(indx+1, subseq, arr, l, total, s)\n",
    "    subseq.pop()\n",
    "    s-=arr[indx]\n",
    "    printSub(indx+1, subseq, arr, l, total, s)"
   ]
  },
  {
   "cell_type": "code",
   "execution_count": 3,
   "id": "3d754005",
   "metadata": {},
   "outputs": [
    {
     "name": "stdout",
     "output_type": "stream",
     "text": [
      "1 2 1\n",
      "2\n",
      "[1, 1]\n",
      "[2]\n"
     ]
    }
   ],
   "source": [
    "str_arr = input().split()\n",
    "total = int(input())\n",
    "arr = [int(x) for x in str_arr]\n",
    "l = len(arr)\n",
    "subseq = []\n",
    "\n",
    "printSub( 0, subseq, arr, l, total, 0)"
   ]
  }
 ],
 "metadata": {
  "kernelspec": {
   "display_name": "Python 3",
   "language": "python",
   "name": "python3"
  },
  "language_info": {
   "codemirror_mode": {
    "name": "ipython",
    "version": 3
   },
   "file_extension": ".py",
   "mimetype": "text/x-python",
   "name": "python",
   "nbconvert_exporter": "python",
   "pygments_lexer": "ipython3",
   "version": "3.6.9"
  }
 },
 "nbformat": 4,
 "nbformat_minor": 5
}
