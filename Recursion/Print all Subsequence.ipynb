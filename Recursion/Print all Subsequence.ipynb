{
 "cells": [
  {
   "cell_type": "markdown",
   "id": "85d974d1",
   "metadata": {},
   "source": [
    "subsequence:- a contigeous / N contigieos seq which follows the order\n",
    "arr = [3,1,2] subseq:- [3],[1],[2],[3,1],[1,2],[3,2],[3,1,2],[]\n",
    "\n"
   ]
  },
  {
   "cell_type": "code",
   "execution_count": 4,
   "id": "b94c3140",
   "metadata": {},
   "outputs": [],
   "source": [
    "def printSub(indx, subseq ,arr ,l):\n",
    "    if indx >=l:\n",
    "        print(subseq)\n",
    "        return\n",
    "    subseq.append(arr[indx])\n",
    "    printSub(indx+1, subseq ,arr ,l)\n",
    "    subseq.pop()\n",
    "    printSub(indx+1, subseq , arr, l)"
   ]
  },
  {
   "cell_type": "code",
   "execution_count": 5,
   "id": "f8073b1d",
   "metadata": {},
   "outputs": [
    {
     "name": "stdout",
     "output_type": "stream",
     "text": [
      "3 1 2\n",
      "[3, 1, 2]\n",
      "[3, 1]\n",
      "[3, 2]\n",
      "[3]\n",
      "[1, 2]\n",
      "[1]\n",
      "[2]\n",
      "[]\n"
     ]
    }
   ],
   "source": [
    "str_arr = input().split()\n",
    "arr = [int(ele) for ele in str_arr]\n",
    "l = len(arr)\n",
    "subseq = []\n",
    "printSub(0,subseq,arr,l)"
   ]
  }
 ],
 "metadata": {
  "kernelspec": {
   "display_name": "Python 3",
   "language": "python",
   "name": "python3"
  },
  "language_info": {
   "codemirror_mode": {
    "name": "ipython",
    "version": 3
   },
   "file_extension": ".py",
   "mimetype": "text/x-python",
   "name": "python",
   "nbconvert_exporter": "python",
   "pygments_lexer": "ipython3",
   "version": "3.6.9"
  }
 },
 "nbformat": 4,
 "nbformat_minor": 5
}
